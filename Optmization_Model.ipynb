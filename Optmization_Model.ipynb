{
  "nbformat": 4,
  "nbformat_minor": 0,
  "metadata": {
    "colab": {
      "provenance": []
    },
    "kernelspec": {
      "name": "python3",
      "display_name": "Python 3"
    },
    "language_info": {
      "name": "python"
    }
  },
  "cells": [
    {
      "cell_type": "code",
      "source": [
        "pip install pulp"
      ],
      "metadata": {
        "colab": {
          "base_uri": "https://localhost:8080/"
        },
        "id": "hsn5Umc935JO",
        "outputId": "d17cced7-f1f4-4f44-f83f-3bca4a2a92ba"
      },
      "execution_count": 2,
      "outputs": [
        {
          "output_type": "stream",
          "name": "stdout",
          "text": [
            "Collecting pulp\n",
            "  Downloading PuLP-3.0.2-py3-none-any.whl.metadata (6.7 kB)\n",
            "Downloading PuLP-3.0.2-py3-none-any.whl (17.7 MB)\n",
            "\u001b[2K   \u001b[90m━━━━━━━━━━━━━━━━━━━━━━━━━━━━━━━━━━━━━━━━\u001b[0m \u001b[32m17.7/17.7 MB\u001b[0m \u001b[31m83.8 MB/s\u001b[0m eta \u001b[36m0:00:00\u001b[0m\n",
            "\u001b[?25hInstalling collected packages: pulp\n",
            "Successfully installed pulp-3.0.2\n"
          ]
        }
      ]
    },
    {
      "cell_type": "code",
      "source": [
        "from pulp import LpProblem, LpMaximize, LpVariable, LpStatus\n",
        "\n",
        "def optimize_production(profit_x, profit_y, space_x, space_y, total_space, labor_x, labor_y, total_labor):\n",
        "    # Define the linear programming problem (maximize profit)\n",
        "    model = LpProblem(\"Maximize_Profit\", LpMaximize)\n",
        "\n",
        "    # Define decision variables: Number of units of Product X and Y\n",
        "    X = LpVariable(\"Product_X\", lowBound=0, cat='Integer')\n",
        "    Y = LpVariable(\"Product_Y\", lowBound=0, cat='Integer')\n",
        "\n",
        "    # Objective function: Maximize profit\n",
        "    model += profit_x * X + profit_y * Y, \"Total_Profit\"\n",
        "\n",
        "    # Constraints\n",
        "    model += space_x * X + space_y * Y <= total_space, \"Storage_Constraint\"  # Storage space limit\n",
        "    model += labor_x * X + labor_y * Y <= total_labor, \"Labor_Constraint\"     # Labor hours limit\n",
        "\n",
        "    # Solve the problem\n",
        "    model.solve()\n",
        "\n",
        "    # Results\n",
        "    result = {\n",
        "        \"status\": LpStatus[model.status],\n",
        "        \"Product_X\": int(X.varValue),\n",
        "        \"Product_Y\": int(Y.varValue),\n",
        "        \"Maximum_Profit\": int(model.objective.value())\n",
        "    }\n",
        "\n",
        "    return result\n",
        "\n",
        "# Example usage\n",
        "if __name__ == \"__main__\":\n",
        "    # Dynamic inputs\n",
        "    profit_x = int(input(\"Enter profit per unit for Product X: \"))\n",
        "    profit_y = int(input(\"Enter profit per unit for Product Y: \"))\n",
        "    space_x = int(input(\"Enter space required per unit for Product X: \"))\n",
        "    space_y = int(input(\"Enter space required per unit for Product Y: \"))\n",
        "    total_space = int(input(\"Enter total available storage space: \"))\n",
        "    labor_x = int(input(\"Enter labor hours required per unit for Product X: \"))\n",
        "    labor_y = int(input(\"Enter labor hours required per unit for Product Y: \"))\n",
        "    total_labor = int(input(\"Enter total available labor hours: \"))\n",
        "\n",
        "    # Optimization\n",
        "    result = optimize_production(profit_x, profit_y, space_x, space_y, total_space, labor_x, labor_y, total_labor)\n",
        "\n",
        "    # Display results\n",
        "    print(\"\\nOptimization Results:\")\n",
        "    for key, value in result.items():\n",
        "        print(f\"{key}: {value}\")\n"
      ],
      "metadata": {
        "colab": {
          "base_uri": "https://localhost:8080/"
        },
        "id": "q7ntVJ8d3fNv",
        "outputId": "50da3587-b25e-454e-ec80-92eace461ec1"
      },
      "execution_count": 3,
      "outputs": [
        {
          "output_type": "stream",
          "name": "stdout",
          "text": [
            "Enter profit per unit for Product X: 50\n",
            "Enter profit per unit for Product Y: 40\n",
            "Enter space required per unit for Product X: 3\n",
            "Enter space required per unit for Product Y: 2\n",
            "Enter total available storage space: 18\n",
            "Enter labor hours required per unit for Product X: 2\n",
            "Enter labor hours required per unit for Product Y: 1\n",
            "Enter total available labor hours: 10\n",
            "\n",
            "Optimization Results:\n",
            "status: Optimal\n",
            "Product_X: 0\n",
            "Product_Y: 9\n",
            "Maximum_Profit: 360\n"
          ]
        }
      ]
    }
  ]
}